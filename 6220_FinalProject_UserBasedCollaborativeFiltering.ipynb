{
  "nbformat": 4,
  "nbformat_minor": 0,
  "metadata": {
    "colab": {
      "provenance": []
    },
    "kernelspec": {
      "name": "python3",
      "display_name": "Python 3"
    },
    "language_info": {
      "name": "python"
    }
  },
  "cells": [
    {
      "cell_type": "markdown",
      "source": [
        "**Using the user-based collaborative filtering approach to build a recommendation system on:**\n",
        "\n",
        "**The Taste Profile Subset (UserID, song ID and playCount) curated by EchoNest**"
      ],
      "metadata": {
        "id": "S6alVY6IyskH"
      }
    },
    {
      "cell_type": "markdown",
      "source": [
        "**Step 1. Loading the dataset and imports.**\n",
        "\n",
        "Taste Profile Subset reference: http://millionsongdataset.com/tasteprofile/\n",
        "\n",
        "\n",
        "The Taste profile Subset dataset was downloaded from: http://millionsongdataset.com/sites/default/files/challenge/train_triplets.txt.zip"
      ],
      "metadata": {
        "id": "tIv-yhHl0J1f"
      }
    },
    {
      "cell_type": "code",
      "source": [
        "#Granting access to the google drive folder where the dataset is stored.\n",
        "\n",
        "from google.colab import drive\n",
        "drive.mount('/content/drive')"
      ],
      "metadata": {
        "colab": {
          "base_uri": "https://localhost:8080/"
        },
        "id": "prWSiJfkzG-U",
        "outputId": "870a4a06-ce78-4386-9a36-fc58a5972bf7"
      },
      "execution_count": 55,
      "outputs": [
        {
          "output_type": "stream",
          "name": "stdout",
          "text": [
            "Drive already mounted at /content/drive; to attempt to forcibly remount, call drive.mount(\"/content/drive\", force_remount=True).\n"
          ]
        }
      ]
    },
    {
      "cell_type": "code",
      "source": [
        "# Defining the path in drive where the dataset is stored\n",
        "file_path ='/content/drive/My Drive/recommendation system/train_triplets.txt'"
      ],
      "metadata": {
        "id": "X90yh9lj4Btg"
      },
      "execution_count": 82,
      "outputs": []
    },
    {
      "cell_type": "code",
      "source": [
        "#Installing the required libraries\n",
        "\n",
        "# Surprise library in python is used for recommendation systems.\n",
        "!pip install scikit-surprise"
      ],
      "metadata": {
        "colab": {
          "base_uri": "https://localhost:8080/"
        },
        "id": "fDbSQZba3uyG",
        "outputId": "fbb4f255-1409-4306-f153-adfce4d207ea"
      },
      "execution_count": 83,
      "outputs": [
        {
          "output_type": "stream",
          "name": "stdout",
          "text": [
            "Requirement already satisfied: scikit-surprise in /usr/local/lib/python3.10/dist-packages (1.1.3)\n",
            "Requirement already satisfied: joblib>=1.0.0 in /usr/local/lib/python3.10/dist-packages (from scikit-surprise) (1.3.2)\n",
            "Requirement already satisfied: numpy>=1.17.3 in /usr/local/lib/python3.10/dist-packages (from scikit-surprise) (1.23.5)\n",
            "Requirement already satisfied: scipy>=1.3.2 in /usr/local/lib/python3.10/dist-packages (from scikit-surprise) (1.11.4)\n"
          ]
        }
      ]
    },
    {
      "cell_type": "code",
      "source": [
        "# Importing the required libraries\n",
        "import pandas as pd\n",
        "import numpy as np\n",
        "import matplotlib.pyplot as plt\n",
        "from scipy.stats import zscore\n",
        "from sklearn.preprocessing import StandardScaler\n",
        "from surprise import Dataset, Reader\n",
        "from sklearn.model_selection import train_test_split\n",
        "from sklearn.metrics.pairwise import cosine_similarity\n",
        "from sklearn.metrics import mean_squared_error\n",
        "from math import sqrt\n",
        "from scipy.stats import pearsonr"
      ],
      "metadata": {
        "id": "aJ5rCLXq42El"
      },
      "execution_count": 119,
      "outputs": []
    },
    {
      "cell_type": "code",
      "source": [
        "# Load the dataset into a pandas dataframe 'songs' with column names:  user, song and play_count.\n",
        "songs = pd.read_csv(file_path, sep=\"\\t\", nrows=10000, names=['userID', 'songID', 'play_count'], header=None)"
      ],
      "metadata": {
        "id": "K-pftixD5PgU"
      },
      "execution_count": 120,
      "outputs": []
    },
    {
      "cell_type": "code",
      "source": [
        "# Printing the first 5 rows in the dataset.\n",
        "print(songs.head(5))"
      ],
      "metadata": {
        "colab": {
          "base_uri": "https://localhost:8080/"
        },
        "id": "LF-PFSFy5uyV",
        "outputId": "57ab46bf-b905-4dca-d34b-a13a818a53d4"
      },
      "execution_count": 121,
      "outputs": [
        {
          "output_type": "stream",
          "name": "stdout",
          "text": [
            "                                     userID              songID  play_count\n",
            "0  b80344d063b5ccb3212f76538f3d9e43d87dca9e  SOAKIMP12A8C130995           1\n",
            "1  b80344d063b5ccb3212f76538f3d9e43d87dca9e  SOAPDEY12A81C210A9           1\n",
            "2  b80344d063b5ccb3212f76538f3d9e43d87dca9e  SOBBMDR12A8C13253B           2\n",
            "3  b80344d063b5ccb3212f76538f3d9e43d87dca9e  SOBFNSP12AF72A0E22           1\n",
            "4  b80344d063b5ccb3212f76538f3d9e43d87dca9e  SOBFOVM12A58A7D494           1\n"
          ]
        }
      ]
    },
    {
      "cell_type": "markdown",
      "source": [
        "**Step 2. Exploring the Data.**"
      ],
      "metadata": {
        "id": "b3gw5Hg36VB0"
      }
    },
    {
      "cell_type": "code",
      "source": [
        "# Check for missing values\n",
        "missing_values = songs.isnull().sum()\n",
        "\n",
        "# Display columns with missing values\n",
        "print(missing_values[missing_values > 0])"
      ],
      "metadata": {
        "colab": {
          "base_uri": "https://localhost:8080/"
        },
        "id": "_Z1YHH8VF0Da",
        "outputId": "9bd08099-932c-473e-d8cf-53367f33d737"
      },
      "execution_count": 122,
      "outputs": [
        {
          "output_type": "stream",
          "name": "stdout",
          "text": [
            "Series([], dtype: int64)\n"
          ]
        }
      ]
    },
    {
      "cell_type": "code",
      "source": [
        "# Printing the shape of the dataset.\n",
        "print(songs.shape)"
      ],
      "metadata": {
        "colab": {
          "base_uri": "https://localhost:8080/"
        },
        "id": "GlMS7iOE6ceP",
        "outputId": "09717736-22e0-4caa-a51d-67a7ddca5e44"
      },
      "execution_count": 123,
      "outputs": [
        {
          "output_type": "stream",
          "name": "stdout",
          "text": [
            "(10000, 3)\n"
          ]
        }
      ]
    },
    {
      "cell_type": "markdown",
      "source": [
        "We can see that the dataset has 10000 rows and 3 columns - userID, songID and the play_count and that it has no missing values."
      ],
      "metadata": {
        "id": "Ra4QJU6B8UHa"
      }
    },
    {
      "cell_type": "markdown",
      "source": [
        "**2.1 Checking for unique rows and duplicates in the dataset.**"
      ],
      "metadata": {
        "id": "GJyCuyoG9sUW"
      }
    },
    {
      "cell_type": "code",
      "source": [
        "unique_rows = songs.drop_duplicates().shape[0]\n",
        "# Printing the number of unique rows\n",
        "print(\"Number of unique rows:\", unique_rows)"
      ],
      "metadata": {
        "colab": {
          "base_uri": "https://localhost:8080/"
        },
        "id": "7ZDcTWm68hT8",
        "outputId": "d1cd4894-80b0-460b-f689-a46a1c669bd5"
      },
      "execution_count": 124,
      "outputs": [
        {
          "output_type": "stream",
          "name": "stdout",
          "text": [
            "Number of unique rows: 10000\n"
          ]
        }
      ]
    },
    {
      "cell_type": "code",
      "source": [
        "# Checking for duplicates column wise.\n",
        "duplicates = songs.duplicated()\n",
        "print(\"Duplicates in the dataset:\")\n",
        "print(songs[duplicates])"
      ],
      "metadata": {
        "colab": {
          "base_uri": "https://localhost:8080/"
        },
        "id": "ti8SCvNC-pry",
        "outputId": "4a47081b-92aa-4af8-96c4-4f079299fad2"
      },
      "execution_count": 125,
      "outputs": [
        {
          "output_type": "stream",
          "name": "stdout",
          "text": [
            "Duplicates in the dataset:\n",
            "Empty DataFrame\n",
            "Columns: [userID, songID, play_count]\n",
            "Index: []\n"
          ]
        }
      ]
    },
    {
      "cell_type": "markdown",
      "source": [
        "**2.2 Finding the range and min-max of the play_count column.**"
      ],
      "metadata": {
        "id": "widCH37-A2A_"
      }
    },
    {
      "cell_type": "code",
      "source": [
        "print(\"Max value in play_counts column: {}\".format(songs['play_count'].max()))\n",
        "print(\"Min value in play_counts column: {}\".format(songs['play_count'].min()))"
      ],
      "metadata": {
        "colab": {
          "base_uri": "https://localhost:8080/"
        },
        "id": "jqrEh1BJA7uo",
        "outputId": "579d68bd-80c1-4616-bf08-7e29c6ba9848"
      },
      "execution_count": 126,
      "outputs": [
        {
          "output_type": "stream",
          "name": "stdout",
          "text": [
            "Max value in play_counts column: 140\n",
            "Min value in play_counts column: 1\n"
          ]
        }
      ]
    },
    {
      "cell_type": "code",
      "source": [
        "print(\"Play Counts are in the range of: {} - {}\".format(songs['play_count'].min(), songs['play_count'].max()))"
      ],
      "metadata": {
        "colab": {
          "base_uri": "https://localhost:8080/"
        },
        "id": "HvAxbCH4BR3e",
        "outputId": "85654b0b-9798-4856-cee8-df3af2f85f73"
      },
      "execution_count": 127,
      "outputs": [
        {
          "output_type": "stream",
          "name": "stdout",
          "text": [
            "Play Counts are in the range of: 1 - 140\n"
          ]
        }
      ]
    },
    {
      "cell_type": "markdown",
      "source": [
        "**2.3 Visualizing the play_count column's distribution (initial).**"
      ],
      "metadata": {
        "id": "BQMAUYJEB1l2"
      }
    },
    {
      "cell_type": "code",
      "source": [
        "# Plotting the distribution\n",
        "plt.figure(figsize=(5, 5))\n",
        "plt.hist(songs['play_count'], bins=5, color='blue', edgecolor='black')\n",
        "plt.title(f'Distribution of play counts (Initial)')\n",
        "plt.xlabel('Play Counts')\n",
        "plt.ylabel('Frequency')\n",
        "plt.show()"
      ],
      "metadata": {
        "colab": {
          "base_uri": "https://localhost:8080/",
          "height": 487
        },
        "id": "kyQNwwDcB8k4",
        "outputId": "b7d1b629-d89f-4dd7-9dd1-ec449945aa98"
      },
      "execution_count": 128,
      "outputs": [
        {
          "output_type": "display_data",
          "data": {
            "text/plain": [
              "<Figure size 500x500 with 1 Axes>"
            ],
            "image/png": "[encoded data removed]"
          },
          "metadata": {}
        }
      ]
    },
    {
      "cell_type": "markdown",
      "source": [
        "**2.4 Getting the quartile distribution for the play_counts column.**"
      ],
      "metadata": {
        "id": "K-rz2q0UDWuH"
      }
    },
    {
      "cell_type": "code",
      "source": [
        "column_name = 'play_count'\n",
        "# Get quartile distributions\n",
        "quartiles = songs[column_name].describe(percentiles=[.25, .5, .75])\n",
        "print(\"Quartile Distributions for {}:\\t{}\".format(column_name, quartiles))"
      ],
      "metadata": {
        "colab": {
          "base_uri": "https://localhost:8080/"
        },
        "id": "0ru66k4yDePq",
        "outputId": "f489fecf-7bf5-476d-e8de-53829271262b"
      },
      "execution_count": 129,
      "outputs": [
        {
          "output_type": "stream",
          "name": "stdout",
          "text": [
            "Quartile Distributions for play_count:\tcount    10000.000000\n",
            "mean         2.522300\n",
            "std          4.444736\n",
            "min          1.000000\n",
            "25%          1.000000\n",
            "50%          1.000000\n",
            "75%          2.000000\n",
            "max        140.000000\n",
            "Name: play_count, dtype: float64\n"
          ]
        }
      ]
    },
    {
      "cell_type": "markdown",
      "source": [
        "From the above analysis we can see that:\n",
        "\n",
        "The mean play_count is 2.52 and the standard deviation is 4.44.\n",
        "\n",
        "25% of the data has play count values of 1 or less and the median of the play_counts is 1.\n",
        "\n",
        "The play_counts column seems to have skewed distribution between the range 1-140.\n",
        "\n",
        "Since the distribution is skewed, we'll apply z-score normalization to the play_count column. This will make sure that the play_count variable now has a mean of 0 and standard deviation of 1. The distribution will retain its shape, but the scale will be changed.\n"
      ],
      "metadata": {
        "id": "_Eh1_gcZFHIP"
      }
    },
    {
      "cell_type": "markdown",
      "source": [
        "**2.5 Z-score Normalization for the play_count variable.**"
      ],
      "metadata": {
        "id": "Fs8qPa2oG5Fx"
      }
    },
    {
      "cell_type": "code",
      "source": [
        "play_count_column = songs[['play_count']]\n",
        "\n",
        "# Initialize the StandardScaler - for z score normalization.\n",
        "scaler = StandardScaler()\n",
        "\n",
        "# Fit and transform the data\n",
        "normalized_play_count = scaler.fit_transform(play_count_column)\n",
        "\n",
        "# Replace the original 'play_count' column with the normalized values\n",
        "songs['normalized_play_count'] = normalized_play_count\n",
        "\n",
        "# Drop the original play_count column.\n",
        "songs = songs.drop('play_count', axis=1)\n",
        "\n",
        "# Print the normalized DataFrame\n",
        "print(songs)"
      ],
      "metadata": {
        "colab": {
          "base_uri": "https://localhost:8080/"
        },
        "id": "qEkh0V5NJR9V",
        "outputId": "08628e34-6711-48bd-b167-bf331ba08c65"
      },
      "execution_count": 130,
      "outputs": [
        {
          "output_type": "stream",
          "name": "stdout",
          "text": [
            "                                        userID              songID  \\\n",
            "0     b80344d063b5ccb3212f76538f3d9e43d87dca9e  SOAKIMP12A8C130995   \n",
            "1     b80344d063b5ccb3212f76538f3d9e43d87dca9e  SOAPDEY12A81C210A9   \n",
            "2     b80344d063b5ccb3212f76538f3d9e43d87dca9e  SOBBMDR12A8C13253B   \n",
            "3     b80344d063b5ccb3212f76538f3d9e43d87dca9e  SOBFNSP12AF72A0E22   \n",
            "4     b80344d063b5ccb3212f76538f3d9e43d87dca9e  SOBFOVM12A58A7D494   \n",
            "...                                        ...                 ...   \n",
            "9995  8caf9a87e266a22298bd977a63489d008af241c5  SOETKSY12A8C13C666   \n",
            "9996  8caf9a87e266a22298bd977a63489d008af241c5  SOFPXJZ12A6D4F6444   \n",
            "9997  8caf9a87e266a22298bd977a63489d008af241c5  SOFRCGW12A81C21EA6   \n",
            "9998  8caf9a87e266a22298bd977a63489d008af241c5  SOFUVPZ12A6D4FCEA3   \n",
            "9999  8caf9a87e266a22298bd977a63489d008af241c5  SOGKCNH12A8C139F79   \n",
            "\n",
            "      normalized_play_count  \n",
            "0                 -0.342512  \n",
            "1                 -0.342512  \n",
            "2                 -0.117516  \n",
            "3                 -0.342512  \n",
            "4                 -0.342512  \n",
            "...                     ...  \n",
            "9995               2.132449  \n",
            "9996              -0.342512  \n",
            "9997               0.107481  \n",
            "9998              -0.117516  \n",
            "9999              -0.342512  \n",
            "\n",
            "[10000 rows x 3 columns]\n"
          ]
        }
      ]
    },
    {
      "cell_type": "markdown",
      "source": [
        "**2.6 Visualization of the play_count column after normalization.**"
      ],
      "metadata": {
        "id": "zwpcGPO7Gnsa"
      }
    },
    {
      "cell_type": "code",
      "source": [
        "# Plotting the distribution\n",
        "plt.figure(figsize=(5, 5))\n",
        "plt.hist(songs['normalized_play_count'], bins=2, color='blue', edgecolor='black')\n",
        "plt.title(f'Distribution of play counts (Normalized)')\n",
        "plt.xlabel('Normalized Play Counts')\n",
        "plt.ylabel('Frequency')\n",
        "plt.show()"
      ],
      "metadata": {
        "colab": {
          "base_uri": "https://localhost:8080/",
          "height": 487
        },
        "id": "jb7kBpelGuge",
        "outputId": "abfb6257-0bd8-4633-e1f1-73c32cf8e45e"
      },
      "execution_count": 131,
      "outputs": [
        {
          "output_type": "display_data",
          "data": {
            "text/plain": [
              "<Figure size 500x500 with 1 Axes>"
            ],
            "image/png": "[encoded data removed]"
          },
          "metadata": {}
        }
      ]
    },
    {
      "cell_type": "markdown",
      "source": [
        "**Step 3. Dividing the data into training, validation and test set.**"
      ],
      "metadata": {
        "id": "ZOqr3aP7LXb-"
      }
    },
    {
      "cell_type": "code",
      "source": [
        "train_data, test_data = train_test_split(songs, test_size=0.2, random_state=71)\n",
        "train_data, val_data = train_test_split(train_data, test_size=0.2, random_state=17)"
      ],
      "metadata": {
        "id": "6SuzcKS-Lh2V"
      },
      "execution_count": 132,
      "outputs": []
    },
    {
      "cell_type": "code",
      "source": [
        "print(\"No of rows in training data: {}\".format(train_data.shape[0]))\n",
        "print(\"No of rows in validation data: {}\".format(val_data.shape[0]))\n",
        "print(\"No of rows in testing data: {}\".format(test_data.shape[0]))"
      ],
      "metadata": {
        "colab": {
          "base_uri": "https://localhost:8080/"
        },
        "id": "oYGuIdPsLmyg",
        "outputId": "bb46b1bb-c7b5-4a05-901e-d00575f14689"
      },
      "execution_count": 133,
      "outputs": [
        {
          "output_type": "stream",
          "name": "stdout",
          "text": [
            "No of rows in training data: 6400\n",
            "No of rows in validation data: 1600\n",
            "No of rows in testing data: 2000\n"
          ]
        }
      ]
    },
    {
      "cell_type": "markdown",
      "source": [
        "**Step 4. Building the user-item matrix.**"
      ],
      "metadata": {
        "id": "TcVuqT1QMYCF"
      }
    },
    {
      "cell_type": "code",
      "source": [
        "# Create user-item matrix for train, val, and test sets\n",
        "user_item_matrix_train = train_data.pivot(index='userID', columns='songID', values='normalized_play_count').fillna(0)\n",
        "user_item_matrix_val = val_data.pivot(index='userID', columns='songID', values='normalized_play_count').fillna(0)\n",
        "user_item_matrix_test = test_data.pivot(index='userID', columns='songID', values='normalized_play_count').fillna(0)"
      ],
      "metadata": {
        "id": "kNUx58HgMfka"
      },
      "execution_count": 134,
      "outputs": []
    },
    {
      "cell_type": "markdown",
      "source": [
        "**Step 5. Using a similarity measure to calculate the similarity between users.**"
      ],
      "metadata": {
        "id": "EAIyDjqeRfBG"
      }
    },
    {
      "cell_type": "code",
      "source": [
        "# Compute cosine similarity\n",
        "cosine_similarity_matrix = cosine_similarity(user_item_matrix_train.T)\n",
        "\n",
        "# Compute Pearson correlation coefficient\n",
        "pearson_similarity_matrix = user_item_matrix_train.T.corr(method='pearson')"
      ],
      "metadata": {
        "id": "pKWAB0Rv5-WW"
      },
      "execution_count": 152,
      "outputs": []
    },
    {
      "cell_type": "markdown",
      "source": [
        "**Step 6. Neighborhood Selection.**"
      ],
      "metadata": {
        "id": "diz9YgnlRzHS"
      }
    },
    {
      "cell_type": "code",
      "source": [
        "k = 5  # Number of neighbors\n",
        "\n",
        "# Get top-k neighbors for each item using cosine similarity\n",
        "top_cosine_neighbors = np.argsort(cosine_similarity_matrix, axis=1)[:, -k:]\n",
        "\n",
        "# Get top-k neighbors for each item using Pearson similarity\n",
        "top_pearson_neighbors = np.argsort(pearson_similarity_matrix.values, axis=1)[:, -k:]"
      ],
      "metadata": {
        "id": "ilUNj9cmR21s"
      },
      "execution_count": 181,
      "outputs": []
    },
    {
      "cell_type": "code",
      "source": [
        "print(\"Data type of top_cosine_neighbors:\", top_cosine_neighbors.dtype)\n",
        "print(\"Data type of top_pearson_neighbors:\", top_pearson_neighbors.dtype)"
      ],
      "metadata": {
        "colab": {
          "base_uri": "https://localhost:8080/"
        },
        "id": "o5ikal1dSdhR",
        "outputId": "c66e2f70-621d-447c-8fd5-80a38d3318be"
      },
      "execution_count": 182,
      "outputs": [
        {
          "output_type": "stream",
          "name": "stdout",
          "text": [
            "Data type of top_cosine_neighbors: int64\n",
            "Data type of top_pearson_neighbors: int64\n"
          ]
        }
      ]
    },
    {
      "cell_type": "markdown",
      "source": [
        "**Step 7. Making predictions.**"
      ],
      "metadata": {
        "id": "0_zOvmnQUTEg"
      }
    },
    {
      "cell_type": "code",
      "source": [
        "# Predict using the neighborhood for cosine similarity\n",
        "cosine_predictions = np.dot(user_item_matrix_train, cosine_similarity_matrix)"
      ],
      "metadata": {
        "id": "t64NTZvsUZwR"
      },
      "execution_count": 183,
      "outputs": []
    },
    {
      "cell_type": "code",
      "source": [
        "# Predict using the neighborhood for Pearson similarity\n",
        "pearson_predictions = np.dot(pearson_similarity_matrix, user_item_matrix_train)"
      ],
      "metadata": {
        "id": "kPIHf_WTTulc"
      },
      "execution_count": 184,
      "outputs": []
    },
    {
      "cell_type": "markdown",
      "source": [
        "**Step 8. Generate top N recommendations.**"
      ],
      "metadata": {
        "id": "-oeSWvZwT65K"
      }
    },
    {
      "cell_type": "code",
      "source": [
        "def get_top_n_recommendations(predictions, n=10):\n",
        "    # Identify the top N recommendations for each user\n",
        "    top_n_recommendations = np.argsort(predictions, axis=1)[:, -n:]\n",
        "    return top_n_recommendations"
      ],
      "metadata": {
        "id": "x_Fn-iFZT_30"
      },
      "execution_count": 185,
      "outputs": []
    },
    {
      "cell_type": "code",
      "source": [
        "# Get top N recommendations for both cosine and Pearson predictions\n",
        "top_n_cosine = get_top_n_recommendations(cosine_predictions)\n",
        "top_n_pearson = get_top_n_recommendations(pearson_predictions)"
      ],
      "metadata": {
        "id": "mtgBZFEHUxbY"
      },
      "execution_count": 186,
      "outputs": []
    },
    {
      "cell_type": "markdown",
      "source": [
        "**Step 9. Evaluation on the training and validation set using the RMSE metric.**"
      ],
      "metadata": {
        "id": "HPOQvsz0Vpes"
      }
    },
    {
      "cell_type": "code",
      "source": [
        "def calculate_rmse(predictions, actual):\n",
        "    # Extract non-zero elements for comparison\n",
        "    predicted_values = predictions[actual.nonzero()].flatten()\n",
        "    actual_values = actual[actual.nonzero()].flatten()\n",
        "\n",
        "    # Calculate RMSE\n",
        "    rmse = sqrt(mean_squared_error(predicted_values, actual_values))\n",
        "    return rmse"
      ],
      "metadata": {
        "id": "XOK43UAtWcFY"
      },
      "execution_count": 187,
      "outputs": []
    },
    {
      "cell_type": "code",
      "source": [
        "# Calculate RMSE for train and val sets\n",
        "rmse_cosine_train = calculate_rmse(cosine_predictions, user_item_matrix_train.values)\n",
        "rmse_cosine_val = calculate_rmse(cosine_predictions, user_item_matrix_val.values)\n",
        "\n",
        "rmse_pearson_train = calculate_rmse(pearson_predictions, user_item_matrix_train.values)\n",
        "rmse_pearson_val = calculate_rmse(pearson_predictions, user_item_matrix_val.values)\n",
        "\n",
        "print(\"RMSE (Cosine) - Train:\", rmse_cosine_train, \"Validation:\", rmse_cosine_val)\n",
        "print(\"RMSE (Pearson) - Train:\", rmse_pearson_train, \"Validation:\", rmse_pearson_val)"
      ],
      "metadata": {
        "colab": {
          "base_uri": "https://localhost:8080/"
        },
        "id": "6norwsSkWoOx",
        "outputId": "822fa1c1-d921-4e3b-b6c4-9981be778611"
      },
      "execution_count": 188,
      "outputs": [
        {
          "output_type": "stream",
          "name": "stdout",
          "text": [
            "RMSE (Cosine) - Train: 46.748448894575404 Validation: 3.1837090947988624\n",
            "RMSE (Pearson) - Train: 0.28510219690908095 Validation: 0.9701738159034171\n"
          ]
        }
      ]
    },
    {
      "cell_type": "markdown",
      "source": [
        "**Step 10.Fine-tune the algorithm to improve RMSE - Experiment with different values of the neighborhood**"
      ],
      "metadata": {
        "id": "XNAgaQ3dZq5o"
      }
    },
    {
      "cell_type": "code",
      "source": [
        "# Define a range of values for k\n",
        "k_values = [5, 10, 15, 20]\n",
        "\n",
        "# Initialize variables to store RMSE values\n",
        "rmse_cosine_values = []\n",
        "rmse_pearson_values = []\n",
        "\n",
        "print(\"Testing different neighborhood values for the validation data\")\n",
        "# Iterate over different values of k\n",
        "for k in k_values:\n",
        "    # Update top-k neighbors for both cosine and Pearson similarity\n",
        "    top_cosine_neighbors = np.argsort(cosine_similarity_matrix, axis=1)[:, -k:]\n",
        "    top_pearson_neighbors = np.argsort(pearson_similarity_matrix.values, axis=1)[:, -k:]\n",
        "\n",
        "    # Update predictions\n",
        "    cosine_predictions = np.dot(user_item_matrix_train, cosine_similarity_matrix)\n",
        "    pearson_predictions = np.dot(pearson_similarity_matrix, user_item_matrix_train)\n",
        "\n",
        "    # Calculate RMSE for validation set\n",
        "    rmse_cosine_val = calculate_rmse(cosine_predictions, user_item_matrix_val.values)\n",
        "    rmse_pearson_val = calculate_rmse(pearson_predictions, user_item_matrix_val.values)\n",
        "\n",
        "    rmse_cosine_values.append(rmse_cosine_val)\n",
        "    rmse_pearson_values.append(rmse_pearson_val)\n",
        "\n",
        "    print(f\"K value: {k}, RMSE-Cosine: {rmse_cosine_val}, RMSE-Pearson: {rmse_pearson_val}\")\n",
        "\n",
        "\n"
      ],
      "metadata": {
        "colab": {
          "base_uri": "https://localhost:8080/"
        },
        "id": "ES3kzMhlZvHh",
        "outputId": "82816a7f-5c18-469b-d73c-48a14806b99a"
      },
      "execution_count": 159,
      "outputs": [
        {
          "output_type": "stream",
          "name": "stdout",
          "text": [
            "Testing different neighborhood values for the validation data\n",
            "K value: 5, RMSE-Cosine: 3.1837090947988624, RMSE-Pearson: 0.9701738159034171\n",
            "K value: 10, RMSE-Cosine: 3.1837090947988624, RMSE-Pearson: 0.9701738159034171\n",
            "K value: 15, RMSE-Cosine: 3.1837090947988624, RMSE-Pearson: 0.9701738159034171\n",
            "K value: 20, RMSE-Cosine: 3.1837090947988624, RMSE-Pearson: 0.9701738159034171\n"
          ]
        }
      ]
    },
    {
      "cell_type": "code",
      "source": [
        "# Plot the results\n",
        "plt.plot(k_values, rmse_cosine_values, label='Cosine Similarity')\n",
        "plt.plot(k_values, rmse_pearson_values, label='Pearson Similarity')\n",
        "plt.xlabel('Number of Neighbors (k)')\n",
        "plt.ylabel('RMSE on Validation Set')\n",
        "plt.legend()\n",
        "plt.show()"
      ],
      "metadata": {
        "colab": {
          "base_uri": "https://localhost:8080/",
          "height": 449
        },
        "id": "xgdSsNTjc5KC",
        "outputId": "48c4cbe9-7435-4fa6-82b6-98e2dc092083"
      },
      "execution_count": 160,
      "outputs": [
        {
          "output_type": "display_data",
          "data": {
            "text/plain": [
              "<Figure size 640x480 with 1 Axes>"
            ],
            "image/png": "[encoded data removed]"
          },
          "metadata": {}
        }
      ]
    },
    {
      "cell_type": "markdown",
      "source": [
        "From the above experiment we can see that changing the neighborhood values  doesn't impact the RMSE scores much. This maybe due to the underlying nature of data which doesn't change much when we select top n neighbors."
      ],
      "metadata": {
        "id": "ZqP6WIYpzNs4"
      }
    },
    {
      "cell_type": "markdown",
      "source": [
        "**Step 11. Evaluating the model on Test data.**"
      ],
      "metadata": {
        "id": "XV9lhpxQfRwI"
      }
    },
    {
      "cell_type": "code",
      "source": [
        "# Selecting k value as 5 based on above experiments.\n",
        "best_k_cosine = 5\n",
        "best_k_pearson = 5\n",
        "\n",
        "# Get top-k neighbors for each item using cosine similarity\n",
        "top_cosine_neighbors = np.argsort(cosine_similarity_matrix, axis=1)[:, -best_k_cosine:]\n",
        "\n",
        "# Get top-k neighbors for each item using Pearson similarity\n",
        "top_pearson_neighbors = np.argsort(pearson_similarity_matrix.values, axis=1)[:, -best_k_pearson:]\n",
        "\n",
        "# Predict using the neighborhood for cosine similarity\n",
        "cosine_predictions = np.dot(user_item_matrix_train, cosine_similarity_matrix)\n",
        "\n",
        "# Predict using the neighborhood for Pearson similarity\n",
        "pearson_predictions = np.dot(pearson_similarity_matrix, user_item_matrix_train)\n",
        "\n",
        "# Calculate RMSE for test set\n",
        "rmse_cosine_test = calculate_rmse(cosine_predictions, user_item_matrix_test.values)\n",
        "rmse_pearson_test = calculate_rmse(pearson_predictions, user_item_matrix_test.values)\n",
        "\n",
        "print(\"RMSE (Cosine) on Test:\", rmse_cosine_test)\n",
        "print(\"RMSE (Pearson) on Test:\", rmse_pearson_test)"
      ],
      "metadata": {
        "colab": {
          "base_uri": "https://localhost:8080/"
        },
        "id": "uLesqVsnfWSs",
        "outputId": "1f8ac682-35a4-4990-9b00-fa703af130c2"
      },
      "execution_count": 162,
      "outputs": [
        {
          "output_type": "stream",
          "name": "stdout",
          "text": [
            "RMSE (Cosine) on Test: 4.337042410553731\n",
            "RMSE (Pearson) on Test: 1.0934940037702052\n"
          ]
        }
      ]
    },
    {
      "cell_type": "markdown",
      "source": [
        "**Step 12. Take userID as input from the user and generate recommendations for it.**"
      ],
      "metadata": {
        "id": "oFpG0QpBpTGQ"
      }
    },
    {
      "cell_type": "code",
      "source": [
        "def get_top_recommendations_cosine(user_id_input_str, train_data, user_item_matrix_train, top_n=10):\n",
        "    # Get the index corresponding to the userID\n",
        "    user_id_index = train_data[train_data['userID'] == user_id_input_str].index\n",
        "\n",
        "    if not user_id_index.empty:\n",
        "        user_id_index = user_id_index[0]\n",
        "\n",
        "        # Compute cosine similarity\n",
        "        cosine_similarity_matrix = cosine_similarity(user_item_matrix_train.T)\n",
        "\n",
        "        # Predict using the neighborhood for cosine similarity\n",
        "        cosine_predictions = np.dot(user_item_matrix_train, cosine_similarity_matrix)\n",
        "\n",
        "        # Extract the predicted ratings for the target user\n",
        "        user_cosine_predictions = cosine_predictions[user_id_index, :]\n",
        "\n",
        "        # Create a DataFrame with the predicted ratings for each song\n",
        "        predicted_ratings_cosine_df = pd.DataFrame({'song': user_item_matrix_train.columns, 'predicted_rating': user_cosine_predictions})\n",
        "\n",
        "        # Sort the DataFrame by predicted ratings in descending order\n",
        "        predicted_ratings_cosine_df = predicted_ratings_cosine_df.sort_values(by='predicted_rating', ascending=False)\n",
        "\n",
        "        # Display the top N recommendations\n",
        "        top_recommendations_cosine = predicted_ratings_cosine_df.head(top_n)\n",
        "\n",
        "        return top_recommendations_cosine\n",
        "    else:\n",
        "        print(f\"User {user_id_input_str} not found in the training data.\")\n",
        "        return None\n"
      ],
      "metadata": {
        "id": "XdRRddkirvNt"
      },
      "execution_count": 174,
      "outputs": []
    },
    {
      "cell_type": "code",
      "source": [
        "user_id_input = 'b80344d063b5ccb3212f76538f3d9e43d87dca9e'\n",
        "top_recommendations_cosine = get_top_recommendations_cosine(user_id_input, train_data, user_item_matrix_train)\n",
        "if top_recommendations_cosine is not None:\n",
        "    print(f\"Top Recommendations for User {user_id_input} (Cosine):\\n\")\n",
        "    print(top_recommendations_cosine)"
      ],
      "metadata": {
        "colab": {
          "base_uri": "https://localhost:8080/"
        },
        "id": "Q0-EGH7ptivt",
        "outputId": "0fec369a-050c-478a-f3e6-8d4cfd5accf4"
      },
      "execution_count": 176,
      "outputs": [
        {
          "output_type": "stream",
          "name": "stdout",
          "text": [
            "Top Recommendations for User b80344d063b5ccb3212f76538f3d9e43d87dca9e (Cosine):\n",
            "\n",
            "                    song  predicted_rating\n",
            "0     SOAAAGQ12A8C1420C8         33.837002\n",
            "3158  SOPABZM12A6D4FC668         33.837002\n",
            "3476  SOQPGDF12AB01858C5         33.837002\n",
            "5091  SOYTZBN12AB0187A0C         33.837002\n",
            "3136  SOOXDIJ12A6D4FDE33         33.837002\n",
            "1693  SOIBCIC12A58A7B55B         33.837002\n",
            "3009  SOOHWRZ12AC468BA59         33.837002\n",
            "4539  SOVYNVS12AC3DF64AB         33.837002\n",
            "4562  SOWBMHX12A8C13851C         33.837002\n",
            "3545  SOQZYQH12A8AE468E5         33.837002\n"
          ]
        }
      ]
    },
    {
      "cell_type": "code",
      "source": [
        "user_id_input = 'abc'\n",
        "top_recommendations_cosine = get_top_recommendations_cosine(user_id_input, train_data, user_item_matrix_train)\n",
        "if top_recommendations_cosine is not None:\n",
        "    print(f\"Top Recommendations for User {user_id_input} (Cosine):\\n\")\n",
        "    print(top_recommendations_cosine)"
      ],
      "metadata": {
        "colab": {
          "base_uri": "https://localhost:8080/"
        },
        "id": "coPp6QtRtsoX",
        "outputId": "5d6e34fa-65a9-40c8-9209-2f8dd25e0f20"
      },
      "execution_count": 177,
      "outputs": [
        {
          "output_type": "stream",
          "name": "stdout",
          "text": [
            "User abc not found in the training data.\n"
          ]
        }
      ]
    },
    {
      "cell_type": "code",
      "source": [
        "def get_top_recommendations_pearson(user_id_input_str, train_data, user_item_matrix_train, top_n=10):\n",
        "    # Get the index corresponding to the userID\n",
        "    user_id_index = train_data[train_data['userID'] == user_id_input_str].index\n",
        "\n",
        "    if not user_id_index.empty:\n",
        "        user_id_index = user_id_index[0]\n",
        "\n",
        "        # Compute Pearson correlation coefficient\n",
        "        pearson_similarity_matrix = user_item_matrix_train.T.corr(method='pearson')\n",
        "\n",
        "        # Predict using the neighborhood for Pearson similarity\n",
        "        pearson_predictions = np.dot(pearson_similarity_matrix, user_item_matrix_train)\n",
        "\n",
        "        # Extract the predicted ratings for the target user\n",
        "        user_pearson_predictions = pearson_predictions[user_id_index, :]\n",
        "\n",
        "        # Create a DataFrame with the predicted ratings for each song\n",
        "        predicted_ratings_pearson_df = pd.DataFrame({'song': user_item_matrix_train.columns, 'predicted_rating': user_pearson_predictions})\n",
        "\n",
        "        # Sort the DataFrame by predicted ratings in descending order\n",
        "        predicted_ratings_pearson_df = predicted_ratings_pearson_df.sort_values(by='predicted_rating', ascending=False)\n",
        "\n",
        "        # Display the top N recommendations\n",
        "        top_recommendations_pearson = predicted_ratings_pearson_df.head(top_n)\n",
        "\n",
        "        return top_recommendations_pearson\n",
        "    else:\n",
        "        print(f\"User {user_id_input_str} not found in the training data.\")\n",
        "        return None"
      ],
      "metadata": {
        "id": "k_hr7zza0C-j"
      },
      "execution_count": 178,
      "outputs": []
    },
    {
      "cell_type": "code",
      "source": [
        "user_id_input = 'b80344d063b5ccb3212f76538f3d9e43d87dca9e'\n",
        "top_recommendations_pearson = get_top_recommendations_pearson(user_id_input, train_data, user_item_matrix_train)\n",
        "if top_recommendations_pearson is not None:\n",
        "    print(f\"Top Recommendations for User {user_id_input} (Pearson):\\n\")\n",
        "    print(top_recommendations_pearson)"
      ],
      "metadata": {
        "colab": {
          "base_uri": "https://localhost:8080/"
        },
        "id": "mV40oLEV0EKR",
        "outputId": "add9faaa-5750-4036-bb53-97c7f708fc03"
      },
      "execution_count": 179,
      "outputs": [
        {
          "output_type": "stream",
          "name": "stdout",
          "text": [
            "Top Recommendations for User b80344d063b5ccb3212f76538f3d9e43d87dca9e (Pearson):\n",
            "\n",
            "                    song  predicted_rating\n",
            "3545  SOQZYQH12A8AE468E5          6.632379\n",
            "2552  SOMEIDU12AB0182205          5.282400\n",
            "1953  SOJIJWG12AAF3B46C0          2.807439\n",
            "3915  SOSXLTC12AF72A7F54          2.194029\n",
            "3158  SOPABZM12A6D4FC668          1.907453\n",
            "494   SOCIHMS12A8C142CC7          1.682456\n",
            "4467  SOVPBWS12A8C141EF1          1.682456\n",
            "2565  SOMGIYR12AB0187973          1.503864\n",
            "4839  SOXKGUD12A58A7C687          0.783873\n",
            "5027  SOYIZSN12A6701E0BB          0.581311\n"
          ]
        }
      ]
    },
    {
      "cell_type": "code",
      "source": [
        "user_id_input = 'abc'\n",
        "top_recommendations_pearson = get_top_recommendations_pearson(user_id_input, train_data, user_item_matrix_train)\n",
        "if top_recommendations_pearson is not None:\n",
        "    print(f\"Top Recommendations for User {user_id_input} (Pearson):\\n\")\n",
        "    print(top_recommendations_pearson)"
      ],
      "metadata": {
        "colab": {
          "base_uri": "https://localhost:8080/"
        },
        "id": "f45c3nJn0H0m",
        "outputId": "d5b20d76-90dc-4e8d-d299-63c6c04311af"
      },
      "execution_count": 180,
      "outputs": [
        {
          "output_type": "stream",
          "name": "stdout",
          "text": [
            "User abc not found in the training data.\n"
          ]
        }
      ]
    },
    {
      "cell_type": "markdown",
      "source": [
        "-- Anusha Kalbande (002763017)"
      ],
      "metadata": {
        "id": "Ub80T6p703ym"
      }
    }
  ]
}